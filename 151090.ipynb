{
 "cells": [
  {
   "cell_type": "code",
   "execution_count": 46,
   "id": "genuine-savannah",
   "metadata": {},
   "outputs": [
    {
     "data": {
      "text/html": [
       "<img src=\"logo.png\" alt=\"Drawing\" style=\"width: 200px; float: left;\"/>\n"
      ],
      "text/plain": [
       "<IPython.core.display.HTML object>"
      ]
     },
     "metadata": {},
     "output_type": "display_data"
    }
   ],
   "source": [
    "%%html \n",
    "<img src=\"logo.png\" alt=\"Drawing\" style=\"width: 200px; float: left;\"/>"
   ]
  },
  {
   "cell_type": "markdown",
   "id": "emotional-democrat",
   "metadata": {},
   "source": [
    "# Влијанието на сонот врз човечкиот организам кај индивидуи со нормална тежина"
   ]
  },
  {
   "cell_type": "markdown",
   "id": "light-massachusetts",
   "metadata": {},
   "source": [
    "Колку часови се потребни за доволен сон? \n",
    "Според Google од каде што можеме да добиеме преку 1 милијарда одговори, потребни се 8 часа за доволен сон.\n",
    "Колку фактори влијаат врз бројот на часови за доволен сон?\n",
    "Бројот на часови за доволен сон не е ист за сите индивидуи. Според возраста за тинејџирите се препорачуваат 8 до 10 часа сон, но може и 7 до 11 часа. Кај постарите луѓе се препорачуваат 5 до 9 часа сон, а за бебиња се препорачува 11 до 18 часа сон. "
   ]
  },
  {
   "cell_type": "markdown",
   "id": "alpine-houston",
   "metadata": {},
   "source": [
    "### Методи\n",
    "Во рандомизирана студија за вкрстување во рамките на предметот, користејќи\n",
    "стандардизиран протокол во лабораторија (со фиксно време на оброк и распоред за\n",
    "вежби), се проучуваат девет мажи со нормална тежина во два наврати: по две ноќи на\n",
    "делумно лишување од сон (ПСД; можност за спиење 02: 45-07: 00 ч.), и по две ноќи\n",
    "нормален сон (НС; можност за спиење 22: 30-07: 00 ч.). Фекалните примероци се\n",
    "собрани во рок од 24 часа пред, и по две лабораториски ноќи, или на НС или на ПСД.\n",
    "Покрај тоа, учесниците биле подложени на орален тест за толеранција на глукоза по\n",
    "секоја интервенција во сон."
   ]
  },
  {
   "cell_type": "code",
   "execution_count": 42,
   "id": "changing-owner",
   "metadata": {},
   "outputs": [
    {
     "data": {
      "text/html": [
       "<div>\n",
       "<style scoped>\n",
       "    .dataframe tbody tr th:only-of-type {\n",
       "        vertical-align: middle;\n",
       "    }\n",
       "\n",
       "    .dataframe tbody tr th {\n",
       "        vertical-align: top;\n",
       "    }\n",
       "\n",
       "    .dataframe thead th {\n",
       "        text-align: right;\n",
       "    }\n",
       "</style>\n",
       "<table border=\"1\" class=\"dataframe\">\n",
       "  <thead>\n",
       "    <tr style=\"text-align: right;\">\n",
       "      <th></th>\n",
       "      <th>Parameter</th>\n",
       "      <th>Mean +- S.E.M.</th>\n",
       "    </tr>\n",
       "  </thead>\n",
       "  <tbody>\n",
       "    <tr>\n",
       "      <th>0</th>\n",
       "      <td>Age</td>\n",
       "      <td>23.3 ± 0.6 years</td>\n",
       "    </tr>\n",
       "    <tr>\n",
       "      <th>1</th>\n",
       "      <td>Body mass index</td>\n",
       "      <td>23.1 ± 0.6 kg/m2</td>\n",
       "    </tr>\n",
       "    <tr>\n",
       "      <th>2</th>\n",
       "      <td>Waist circumference</td>\n",
       "      <td>79.1 ± 2.0 cm</td>\n",
       "    </tr>\n",
       "    <tr>\n",
       "      <th>3</th>\n",
       "      <td>Hip circumference</td>\n",
       "      <td>98.2 ± 1.6 cm</td>\n",
       "    </tr>\n",
       "    <tr>\n",
       "      <th>4</th>\n",
       "      <td>Waist:hip ratio</td>\n",
       "      <td>0.80 ± 0.02</td>\n",
       "    </tr>\n",
       "  </tbody>\n",
       "</table>\n",
       "</div>"
      ],
      "text/plain": [
       "             Parameter    Mean +- S.E.M.\n",
       "0                  Age  23.3 ± 0.6 years\n",
       "1      Body mass index  23.1 ± 0.6 kg/m2\n",
       "2  Waist circumference     79.1 ± 2.0 cm\n",
       "3   Hip circumference      98.2 ± 1.6 cm\n",
       "4      Waist:hip ratio       0.80 ± 0.02"
      ]
     },
     "execution_count": 42,
     "metadata": {},
     "output_type": "execute_result"
    }
   ],
   "source": [
    "import pandas as pd\n",
    "import os\n",
    "df1 = pd.read_csv(r\"C:\\Users\\marija.bravo\\AppData\\Local\\Programs\\Python\\Python39\\Scripts\\parameters.csv\")\n",
    "df1.head()"
   ]
  },
  {
   "cell_type": "markdown",
   "id": "statewide-mississippi",
   "metadata": {},
   "source": [
    "### Резултати\n",
    "Анализата на составот на микробиота (секвенционирање на гени V4 16S rRNA)\n",
    "открила дека по два дена ПСД наспроти два дена НС, индивидуите изложиле зголемен\n",
    "сооднос на фирмикути: бактерии, поголемо изобилство на семејства Coriobacteriaceae и\n",
    "Erysipelotrichaceae и помало изобилство на тенерикути (сите P <0,05) - претходно сите\n",
    "поврзани со метаболички нарушувања кај животински или човечки модели. Сепак, не е\n",
    "пронајден ефект на ПСД наспроти НС. Чувствителноста на постот и јадење после\n",
    "инсулин се намалиле по ПСД наспроти НС (сите Р <0,05)."
   ]
  },
  {
   "cell_type": "markdown",
   "id": "russian-technique",
   "metadata": {},
   "source": [
    "### Дискусија\n",
    "Нашите откритија демонстрираат дека краткотрајното губење на сонот\n",
    "предизвикува суптилни ефекти врз човечката микробиота. До кој степен\n",
    "набљудуваните промени во микробиолошката заедница придонесуваат за метаболички\n",
    "последици од губење на спиењето наложува понатамошни истражувања во поголеми и\n",
    "подолги студии за спиење, за да се процени и како загубата на сон влијае на\n",
    "микробиотата кај лица кои веќе се метаболички компромитирани."
   ]
  }
 ],
 "metadata": {
  "kernelspec": {
   "display_name": "Python 3",
   "language": "python",
   "name": "python3"
  },
  "language_info": {
   "codemirror_mode": {
    "name": "ipython",
    "version": 3
   },
   "file_extension": ".py",
   "mimetype": "text/x-python",
   "name": "python",
   "nbconvert_exporter": "python",
   "pygments_lexer": "ipython3",
   "version": "3.9.1"
  }
 },
 "nbformat": 4,
 "nbformat_minor": 5
}
